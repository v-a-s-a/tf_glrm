{
 "cells": [
  {
   "cell_type": "markdown",
   "metadata": {},
   "source": [
    "# Vanilla PCA\n",
    "\n",
    "We can fit a PCA model in the GLRM framework. We'll test on the well known MNIST conveniently provided in the `tensorflow.examples.tutorials` module.\n",
    "\n",
    "The variable notation is chosen to match the original GLRM paper."
   ]
  },
  {
   "cell_type": "code",
   "execution_count": 50,
   "metadata": {},
   "outputs": [
    {
     "name": "stdout",
     "output_type": "stream",
     "text": [
      "Extracting MNIST_data/train-images-idx3-ubyte.gz\n",
      "Extracting MNIST_data/train-labels-idx1-ubyte.gz\n",
      "Extracting MNIST_data/t10k-images-idx3-ubyte.gz\n",
      "Extracting MNIST_data/t10k-labels-idx1-ubyte.gz\n"
     ]
    },
    {
     "data": {
      "image/png": "[encoded data removed]",
      "text/plain": [
       "<Figure size 432x288 with 1 Axes>"
      ]
     },
     "metadata": {},
     "output_type": "display_data"
    }
   ],
   "source": [
    "import tensorflow as tf\n",
    "import numpy as np\n",
    "import matplotlib.pyplot as plt\n",
    "\n",
    "from tensorflow.examples.tutorials.mnist import input_data\n",
    "mnist = input_data.read_data_sets(\"MNIST_data/\", one_hot=True)\n",
    "\n",
    "\n",
    "N = 784      # features\n",
    "M = 100      # batch size\n",
    "K = 2        # latent dimension\n",
    "steps = 5000 # gradient descent steps\n",
    "\n",
    "\n",
    "g = tf.Graph()\n",
    "with g.as_default():\n",
    "\n",
    "    # observed representation\n",
    "    A = tf.placeholder(shape=(M, N), dtype=tf.float32)\n",
    "    \n",
    "    # archetypical representations\n",
    "    # NOTE: initialization is actually important here!\n",
    "    X = tf.get_variable(\"X\", shape=(M, K), initializer=tf.random_normal_initializer)\n",
    "    Y = tf.get_variable(\"Y\", shape=(K, N), initializer=tf.random_normal_initializer)\n",
    "    \n",
    "    # data reconstruction\n",
    "    Z = tf.matmul(X, Y)\n",
    "    \n",
    "    # objective\n",
    "    loss = tf.reduce_mean((A - Z)**2)\n",
    "    train_op = tf.train.GradientDescentOptimizer(0.1).minimize(loss)\n",
    "    \n",
    "\n",
    "with tf.Session(graph=g) as sess:\n",
    "    # setup\n",
    "    sess.run(tf.global_variables_initializer())\n",
    "    losses = np.zeros(steps)\n",
    "    \n",
    "    # estimation\n",
    "    for step in range(steps):\n",
    "        batch_xs, batch_ys = mnist.train.next_batch(M)\n",
    "        _, losses[step] = sess.run([train_op, loss], feed_dict={A: batch_xs})\n",
    "\n",
    "        \n",
    "# summarize training\n",
    "plt.figure()\n",
    "plt.scatter(x=range(steps), y=losses)\n",
    "plt.show()"
   ]
  }
 ],
 "metadata": {
  "kernelspec": {
   "display_name": "Python 3",
   "language": "python",
   "name": "python3"
  },
  "language_info": {
   "codemirror_mode": {
    "name": "ipython",
    "version": 3
   },
   "file_extension": ".py",
   "mimetype": "text/x-python",
   "name": "python",
   "nbconvert_exporter": "python",
   "pygments_lexer": "ipython3",
   "version": "3.5.2"
  }
 },
 "nbformat": 4,
 "nbformat_minor": 2
}
